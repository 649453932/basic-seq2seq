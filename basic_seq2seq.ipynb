{
 "cells": [
  {
   "cell_type": "code",
   "execution_count": 20,
   "metadata": {},
   "outputs": [],
   "source": [
    "from distutils.version import LooseVersion\n",
    "import tensorflow as tf\n",
    "from tensorflow.python.layers.core import Dense"
   ]
  },
  {
   "cell_type": "code",
   "execution_count": 3,
   "metadata": {
    "collapsed": true
   },
   "outputs": [],
   "source": [
    "import numpy as np\n",
    "import time\n",
    "import tensorflow as tf\n",
    "\n",
    "with open(\"./data/letters_source.txt\", 'r', encoding='utf-8') as f:\n",
    "    source_data = f.read()\n",
    "with open(\"./data/letters_target.txt\", 'r', encoding='utf-8') as f:\n",
    "    target_data = f.read()"
   ]
  },
  {
   "cell_type": "code",
   "execution_count": 4,
   "metadata": {},
   "outputs": [
    {
     "data": {
      "text/plain": [
       "['abqqs',\n",
       " 'npy',\n",
       " 'bjluw',\n",
       " 'bqv',\n",
       " 'aikl',\n",
       " 'addmt',\n",
       " 'degjppx',\n",
       " 'npsv',\n",
       " 'hlouz',\n",
       " 'cklmq']"
      ]
     },
     "execution_count": 4,
     "metadata": {},
     "output_type": "execute_result"
    }
   ],
   "source": [
    "source_data.split(\"\\n\")[:10]\n",
    "target_data.split(\"\\n\")[:10]"
   ]
  },
  {
   "cell_type": "code",
   "execution_count": 5,
   "metadata": {
    "collapsed": true
   },
   "outputs": [],
   "source": [
    "# 数据预处理\n",
    "def extract_character_vocab(data):\n",
    "    special_words = ['<PAD>', '<UNK>', '<GO>', '<EOS>']\n",
    "    set_words = list(set([character for line in data.split('\\n') for character in line]))\n",
    "    int_to_vocab = {idx:word for idx,word in enumerate(special_words + set_words)}\n",
    "    vocab_to_int = {word:idx for idx,word in int_to_vocab.items()}\n",
    "    \n",
    "    return int_to_vocab,vocab_to_int"
   ]
  },
  {
   "cell_type": "code",
   "execution_count": 6,
   "metadata": {
    "collapsed": true
   },
   "outputs": [],
   "source": [
    "# 构造映射表\n",
    "source_int_to_letter, source_letter_to_int = extract_character_vocab(source_data)\n",
    "target_int_to_letter, target_letter_to_int = extract_character_vocab(target_data)\n",
    "\n",
    "# 字母数字转换\n",
    "source_int = [[source_letter_to_int.get(letter, source_letter_to_int.get('<UNK>')) for letter in line] for line in source_data.split('\\n')]\n",
    "target_int = [[target_letter_to_int.get(letter, target_letter_to_int.get('<UNK>')) for letter in line] + [target_letter_to_int.get('<EOS>')] for line in target_data.split('\\n')]\n"
   ]
  },
  {
   "cell_type": "code",
   "execution_count": 19,
   "metadata": {},
   "outputs": [
    {
     "data": {
      "text/plain": [
       "[[14, 6, 17, 17, 12, 3],\n",
       " [18, 25, 22, 3],\n",
       " [6, 5, 20, 7, 8, 3],\n",
       " [6, 17, 24, 3],\n",
       " [14, 4, 15, 20, 3],\n",
       " [14, 27, 27, 9, 11, 3],\n",
       " [27, 13, 23, 5, 25, 25, 16, 3],\n",
       " [18, 25, 12, 24, 3],\n",
       " [28, 20, 10, 7, 26, 3],\n",
       " [19, 15, 20, 9, 17, 3]]"
      ]
     },
     "execution_count": 19,
     "metadata": {},
     "output_type": "execute_result"
    }
   ],
   "source": [
    "target_int[:10]"
   ]
  },
  {
   "cell_type": "code",
   "execution_count": 8,
   "metadata": {
    "collapsed": true
   },
   "outputs": [],
   "source": [
    "# 构建模型\n",
    "def get_inputs():\n",
    "    inputs = tf.placeholder(tf.int32, [None, None], name='inputs')\n",
    "    targets = tf.placeholder(tf.int32, [None, None], name='targets')\n",
    "    learning_rate = tf.placeholder(tf.float32, name='learning_rate')\n",
    "    # 定义target序列最大长度\n",
    "    target_sequence_length = tf.placeholder(tf.int32, (None,), name='target_sequence_length')\n",
    "    max_target_sequence_length = tf.reduce_max(target_sequence_length, name='max_target_sequence_lgenght')\n",
    "    source_sequence_length = tf.placeholder(tf.int32, (None,), name='source_sequence_length')\n",
    "    \n",
    "    return inputs, targets, learning_rate, target_sequence_length, max_target_sequence_length, source_sequence_length"
   ]
  },
  {
   "cell_type": "code",
   "execution_count": 9,
   "metadata": {
    "collapsed": true
   },
   "outputs": [],
   "source": [
    "# Encoder\n",
    "def get_encoder_layer(input_data, rnn_size, num_layers, \n",
    "                      source_sequence_length, source_vocab_size, \n",
    "                      encoding_embedding_size):\n",
    "    encoder_embed_input = tf.contrib.layers.embed_sequence(input_data, \n",
    "                                                          source_vocab_size,\n",
    "                                                          encoding_embedding_size)\n",
    "    # RNN cell\n",
    "    def get_lstm_cell(rnn_size):\n",
    "        lstm_cell = tf.contrib.rnn.LSTMCell(rnn_size, initializer=tf.random_uniform_initializer(-0.1, 0.1, seed=2))\n",
    "        return lstm_cell\n",
    "    cell = tf.contrib.rnn.MultiRNNCell([get_lstm_cell(rnn_size) for _ in range(num_layers)])\n",
    "    encoder_output, encoder_state = tf.nn.dynamic_rnn(cell, encoder_embed_input,\n",
    "                                                    sequence_length=source_sequence_length,dtype=tf.float32)\n",
    "    return encoder_output, encoder_state"
   ]
  },
  {
   "cell_type": "code",
   "execution_count": 10,
   "metadata": {
    "collapsed": true
   },
   "outputs": [],
   "source": [
    "# decoder\n",
    "# cut  <PAD> 和 <EOS>\n",
    "# 添加 <GO>\n",
    "def process_decoder_input(target, vocab_to_int, batch_size):\n",
    "    ending = tf.strided_slice(target, [0,0], [batch_size, -1], [1,1])\n",
    "    decoder_input = tf.concat([tf.fill([batch_size, 1], vocab_to_int['<GO>']), ending], 1)\n",
    "    return decoder_input"
   ]
  },
  {
   "cell_type": "code",
   "execution_count": 11,
   "metadata": {
    "collapsed": true
   },
   "outputs": [],
   "source": [
    "# 对数据进行Embedding\n",
    "def decoding_layer(target_letter_to_int, decoding_embedding_size, num_layers,\n",
    "                  rnn_size, target_sequence_length, max_target_sequence_length,\n",
    "                  encoder_state, decoder_input):\n",
    "    # 1 embedding\n",
    "    target_vocab_size = len(target_letter_to_int)\n",
    "    decoder_embeddings = tf.Variable(tf.random_uniform([target_vocab_size, decoding_embedding_size]))\n",
    "    decoder_embed_input = tf.nn.embedding_lookup(decoder_embeddings, decoder_input)\n",
    "    # 2 构造decode rnn\n",
    "    def get_decoder_cell(rnn_size):\n",
    "        decoder_cell = tf.contrib.rnn.LSTMCell(rnn_size, initializer=tf.random_uniform_initializer(-0.1, 0.1, seed=2))\n",
    "        return decoder_cell\n",
    "    \n",
    "    cell = tf.contrib.rnn.MultiRNNCell([get_decoder_cell(rnn_size) for _ in range(num_layers)])\n",
    "    \n",
    "    # 3 output 接全连接层\n",
    "    output_layer = Dense(target_vocab_size, kernel_initializer=tf.truncated_normal_initializer(mean=0.0, stddev=0.1))\n",
    "    # 4 Training decoder\n",
    "    with tf.variable_scope('decode'):\n",
    "        # 训练helper\n",
    "        training_helper = tf.contrib.seq2seq.TrainingHelper(inputs=decoder_embed_input,\n",
    "                                                           sequence_length=target_sequence_length,\n",
    "                                                           time_major=False)\n",
    "        # 训练decoder\n",
    "        training_decoder = tf.contrib.seq2seq.BasicDecoder(cell, \n",
    "                                                           training_helper,\n",
    "                                                           encoder_state, \n",
    "                                                           output_layer)\n",
    "        \n",
    "        training_decoder_output, _, _ = tf.contrib.seq2seq.dynamic_decode(training_decoder,\n",
    "                                                                      impute_finished=True,\n",
    "                                                                      maximum_iterations=max_target_sequence_length)\n",
    "    # 5 预测 decoder , 与training 共享参数\n",
    "    with tf.variable_scope('decode', reuse=True):\n",
    "        # 创建一个常量tensor并复制为batch_size的大小\n",
    "        start_tokens = tf.tile(tf.constant([target_letter_to_int['<GO>']], dtype=tf.int32), [batch_size], name='start_tokens')\n",
    "        # 预测的helper\n",
    "        predicting_helper = tf.contrib.seq2seq.GreedyEmbeddingHelper(decoder_embeddings,\n",
    "                                                                    start_tokens,\n",
    "                                                                    target_letter_to_int['<EOS>'])\n",
    "        # 预测decoder\n",
    "        predicting_decoder = tf.contrib.seq2seq.BasicDecoder(cell,\n",
    "                                                               predicting_helper,\n",
    "                                                               encoder_state,\n",
    "                                                               output_layer\n",
    "                                                              )\n",
    "        predicting_decoder_output,_,_ = tf.contrib.seq2seq.dynamic_decode(predicting_decoder,\n",
    "                                                                       impute_finished=True,\n",
    "                                                                       maximum_iterations=max_target_sequence_length)\n",
    "        return training_decoder_output, predicting_decoder_output"
   ]
  },
  {
   "cell_type": "code",
   "execution_count": 12,
   "metadata": {
    "collapsed": true
   },
   "outputs": [],
   "source": [
    "# seqseq encode拼接decoder\n",
    "def seq2seq_model(input_data, targets, lr, target_sequence_length, max_target_sequence_length,\n",
    "                 source_sequence_length, source_vocab_size, target_vocab_size,\n",
    "                 encoder_embedding_size, decoder_embedding_size,\n",
    "                 rnn_size, num_layers):\n",
    "    _, encoder_state = get_encoder_layer(input_data,rnn_size,num_layers,\n",
    "                                        source_sequence_length,\n",
    "                                        source_vocab_size,\n",
    "                                        encoding_embedding_size)\n",
    "    \n",
    "    # 预处理 decoder 输入\n",
    "    decoder_input = process_decoder_input(targets, target_letter_to_int, batch_size)\n",
    "    \n",
    "    # 将状态向量与输入传递给decoder\n",
    "    training_decoder_output, predicting_decoder_output = decoding_layer(target_letter_to_int,\n",
    "                                                                       decoding_embedding_size,\n",
    "                                                                       num_layers,\n",
    "                                                                       rnn_size,\n",
    "                                                                       target_sequence_length,\n",
    "                                                                       max_target_sequence_length,\n",
    "                                                                       encoder_state,\n",
    "                                                                       decoder_input)\n",
    "    return training_decoder_output, predicting_decoder_output"
   ]
  },
  {
   "cell_type": "code",
   "execution_count": 13,
   "metadata": {
    "collapsed": true
   },
   "outputs": [],
   "source": [
    "# 超参数\n",
    "epochs = 60\n",
    "batch_size = 128\n",
    "rnn_size = 50\n",
    "num_layers = 2\n",
    "encoding_embedding_size = 15\n",
    "decoding_embedding_size = 15\n",
    "learning_rate = 0.001"
   ]
  },
  {
   "cell_type": "code",
   "execution_count": 14,
   "metadata": {
    "collapsed": true
   },
   "outputs": [],
   "source": [
    "train_graph = tf.Graph()\n",
    "with train_graph.as_default():\n",
    "    # 模型输入\n",
    "    input_data, targets, lr, target_sequence_length, max_target_sequence_length, source_sequence_length = get_inputs()\n",
    "    training_decoder_output, predicting_decoder_output = seq2seq_model(input_data,\n",
    "                                                                      targets,\n",
    "                                                                      lr,\n",
    "                                                                      target_sequence_length,\n",
    "                                                                      max_target_sequence_length,\n",
    "                                                                      source_sequence_length,\n",
    "                                                                      len(source_letter_to_int),\n",
    "                                                                      len(target_letter_to_int),\n",
    "                                                                      encoding_embedding_size,\n",
    "                                                                      decoding_embedding_size,\n",
    "                                                                      rnn_size,\n",
    "                                                                      num_layers)\n",
    "    \n",
    "    training_logits = tf.identity(training_decoder_output.rnn_output, 'logits')\n",
    "    predicting_logits = tf.identity(predicting_decoder_output.sample_id, name='predictions')\n",
    "    \n",
    "    masks = tf.sequence_mask(target_sequence_length, max_target_sequence_length, dtype=tf.float32,name='masks')\n",
    "    \n",
    "    with tf.name_scope('optimization'):\n",
    "        cost = tf.contrib.seq2seq.sequence_loss(training_logits, targets, masks)\n",
    "        \n",
    "        optimizer = tf.train.AdamOptimizer(lr)\n",
    "        \n",
    "        gradients = optimizer.compute_gradients(cost)\n",
    "        capped_gradients = [(tf.clip_by_norm(grad, 5.), var) for grad, var in gradients if grad is not None]\n",
    "        train_op = optimizer.apply_gradients(capped_gradients)"
   ]
  },
  {
   "cell_type": "code",
   "execution_count": 15,
   "metadata": {
    "collapsed": true
   },
   "outputs": [],
   "source": [
    "# batches\n",
    "def pad_sentense_batch(sentence_batch, pad_int):\n",
    "    max_sentence = max([len(sentence) for sentence in sentence_batch])\n",
    "    return [sentence + [pad_int]*(max_sentence - len(sentence)) for sentence in sentence_batch]"
   ]
  },
  {
   "cell_type": "code",
   "execution_count": 16,
   "metadata": {
    "collapsed": true
   },
   "outputs": [],
   "source": [
    "def get_batches(targets, sources, batch_size, source_pad_int, target_pad_int):\n",
    "    for batch_i in range(0, len(sources)//batch_size):\n",
    "        start_i = batch_i*batch_size\n",
    "        source_batch = sources[start_i:start_i+batch_size]\n",
    "        target_batch = targets[start_i:start_i+batch_size]\n",
    "        # 序列补齐\n",
    "        pad_source_batch = np.array(pad_sentense_batch(source_batch, source_pad_int))\n",
    "        pad_target_batch = np.array(pad_sentense_batch(target_batch, target_pad_int))\n",
    "        \n",
    "        target_length = []\n",
    "        for target in target_batch:\n",
    "            target_length.append(len(target))\n",
    "        \n",
    "        source_length = []\n",
    "        for source in source_batch:\n",
    "            source_length.append(len(source))\n",
    "        \n",
    "        yield pad_target_batch, pad_source_batch, target_length, source_length\n",
    "            "
   ]
  },
  {
   "cell_type": "code",
   "execution_count": 18,
   "metadata": {},
   "outputs": [
    {
     "name": "stdout",
     "output_type": "stream",
     "text": [
      "Epoch   1/60 Batch    0/77 - Training Loss:  3.401  - Validation loss:  3.396\n",
      "Epoch   1/60 Batch   50/77 - Training Loss:  2.880  - Validation loss:  2.872\n",
      "Epoch   2/60 Batch    0/77 - Training Loss:  2.515  - Validation loss:  2.528\n",
      "Epoch   2/60 Batch   50/77 - Training Loss:  2.188  - Validation loss:  2.202\n",
      "Epoch   3/60 Batch    0/77 - Training Loss:  2.041  - Validation loss:  2.051\n",
      "Epoch   3/60 Batch   50/77 - Training Loss:  1.824  - Validation loss:  1.820\n",
      "Epoch   4/60 Batch    0/77 - Training Loss:  1.698  - Validation loss:  1.717\n",
      "Epoch   4/60 Batch   50/77 - Training Loss:  1.557  - Validation loss:  1.557\n",
      "Epoch   5/60 Batch    0/77 - Training Loss:  1.457  - Validation loss:  1.480\n",
      "Epoch   5/60 Batch   50/77 - Training Loss:  1.364  - Validation loss:  1.337\n",
      "Epoch   6/60 Batch    0/77 - Training Loss:  1.263  - Validation loss:  1.266\n",
      "Epoch   6/60 Batch   50/77 - Training Loss:  1.164  - Validation loss:  1.127\n",
      "Epoch   7/60 Batch    0/77 - Training Loss:  1.081  - Validation loss:  1.072\n",
      "Epoch   7/60 Batch   50/77 - Training Loss:  0.987  - Validation loss:  0.964\n",
      "Epoch   8/60 Batch    0/77 - Training Loss:  0.938  - Validation loss:  0.916\n",
      "Epoch   8/60 Batch   50/77 - Training Loss:  0.848  - Validation loss:  0.829\n",
      "Epoch   9/60 Batch    0/77 - Training Loss:  0.805  - Validation loss:  0.785\n",
      "Epoch   9/60 Batch   50/77 - Training Loss:  0.721  - Validation loss:  0.703\n",
      "Epoch  10/60 Batch    0/77 - Training Loss:  0.679  - Validation loss:  0.664\n",
      "Epoch  10/60 Batch   50/77 - Training Loss:  0.616  - Validation loss:  0.591\n",
      "Epoch  11/60 Batch    0/77 - Training Loss:  0.569  - Validation loss:  0.556\n",
      "Epoch  11/60 Batch   50/77 - Training Loss:  0.522  - Validation loss:  0.501\n",
      "Epoch  12/60 Batch    0/77 - Training Loss:  0.472  - Validation loss:  0.465\n",
      "Epoch  12/60 Batch   50/77 - Training Loss:  0.436  - Validation loss:  0.421\n",
      "Epoch  13/60 Batch    0/77 - Training Loss:  0.391  - Validation loss:  0.386\n",
      "Epoch  13/60 Batch   50/77 - Training Loss:  0.370  - Validation loss:  0.354\n",
      "Epoch  14/60 Batch    0/77 - Training Loss:  0.327  - Validation loss:  0.320\n",
      "Epoch  14/60 Batch   50/77 - Training Loss:  0.314  - Validation loss:  0.297\n",
      "Epoch  15/60 Batch    0/77 - Training Loss:  0.273  - Validation loss:  0.267\n",
      "Epoch  15/60 Batch   50/77 - Training Loss:  0.264  - Validation loss:  0.248\n",
      "Epoch  16/60 Batch    0/77 - Training Loss:  0.228  - Validation loss:  0.224\n",
      "Epoch  16/60 Batch   50/77 - Training Loss:  0.223  - Validation loss:  0.208\n",
      "Epoch  17/60 Batch    0/77 - Training Loss:  0.189  - Validation loss:  0.191\n",
      "Epoch  17/60 Batch   50/77 - Training Loss:  0.190  - Validation loss:  0.175\n",
      "Epoch  18/60 Batch    0/77 - Training Loss:  0.158  - Validation loss:  0.163\n",
      "Epoch  18/60 Batch   50/77 - Training Loss:  0.168  - Validation loss:  0.153\n",
      "Epoch  19/60 Batch    0/77 - Training Loss:  0.136  - Validation loss:  0.141\n",
      "Epoch  19/60 Batch   50/77 - Training Loss:  0.140  - Validation loss:  0.131\n",
      "Epoch  20/60 Batch    0/77 - Training Loss:  0.115  - Validation loss:  0.124\n",
      "Epoch  20/60 Batch   50/77 - Training Loss:  0.120  - Validation loss:  0.114\n",
      "Epoch  21/60 Batch    0/77 - Training Loss:  0.099  - Validation loss:  0.109\n",
      "Epoch  21/60 Batch   50/77 - Training Loss:  0.103  - Validation loss:  0.101\n",
      "Epoch  22/60 Batch    0/77 - Training Loss:  0.086  - Validation loss:  0.096\n",
      "Epoch  22/60 Batch   50/77 - Training Loss:  0.090  - Validation loss:  0.091\n",
      "Epoch  23/60 Batch    0/77 - Training Loss:  0.075  - Validation loss:  0.086\n",
      "Epoch  23/60 Batch   50/77 - Training Loss:  0.079  - Validation loss:  0.083\n",
      "Epoch  24/60 Batch    0/77 - Training Loss:  0.066  - Validation loss:  0.077\n",
      "Epoch  24/60 Batch   50/77 - Training Loss:  0.070  - Validation loss:  0.076\n",
      "Epoch  25/60 Batch    0/77 - Training Loss:  0.058  - Validation loss:  0.070\n",
      "Epoch  25/60 Batch   50/77 - Training Loss:  0.063  - Validation loss:  0.069\n",
      "Epoch  26/60 Batch    0/77 - Training Loss:  0.051  - Validation loss:  0.064\n",
      "Epoch  26/60 Batch   50/77 - Training Loss:  0.060  - Validation loss:  0.063\n",
      "Epoch  27/60 Batch    0/77 - Training Loss:  0.045  - Validation loss:  0.058\n",
      "Epoch  27/60 Batch   50/77 - Training Loss:  0.057  - Validation loss:  0.058\n",
      "Epoch  28/60 Batch    0/77 - Training Loss:  0.040  - Validation loss:  0.053\n",
      "Epoch  28/60 Batch   50/77 - Training Loss:  0.047  - Validation loss:  0.054\n",
      "Epoch  29/60 Batch    0/77 - Training Loss:  0.037  - Validation loss:  0.049\n",
      "Epoch  29/60 Batch   50/77 - Training Loss:  0.041  - Validation loss:  0.049\n",
      "Epoch  30/60 Batch    0/77 - Training Loss:  0.034  - Validation loss:  0.046\n",
      "Epoch  30/60 Batch   50/77 - Training Loss:  0.036  - Validation loss:  0.046\n",
      "Epoch  31/60 Batch    0/77 - Training Loss:  0.030  - Validation loss:  0.043\n",
      "Epoch  31/60 Batch   50/77 - Training Loss:  0.033  - Validation loss:  0.042\n",
      "Epoch  32/60 Batch    0/77 - Training Loss:  0.028  - Validation loss:  0.040\n",
      "Epoch  32/60 Batch   50/77 - Training Loss:  0.030  - Validation loss:  0.039\n",
      "Epoch  33/60 Batch    0/77 - Training Loss:  0.025  - Validation loss:  0.037\n",
      "Epoch  33/60 Batch   50/77 - Training Loss:  0.027  - Validation loss:  0.037\n",
      "Epoch  34/60 Batch    0/77 - Training Loss:  0.023  - Validation loss:  0.034\n",
      "Epoch  34/60 Batch   50/77 - Training Loss:  0.025  - Validation loss:  0.034\n",
      "Epoch  35/60 Batch    0/77 - Training Loss:  0.021  - Validation loss:  0.032\n",
      "Epoch  35/60 Batch   50/77 - Training Loss:  0.022  - Validation loss:  0.031\n",
      "Epoch  36/60 Batch    0/77 - Training Loss:  0.019  - Validation loss:  0.031\n",
      "Epoch  36/60 Batch   50/77 - Training Loss:  0.020  - Validation loss:  0.029\n",
      "Epoch  37/60 Batch    0/77 - Training Loss:  0.018  - Validation loss:  0.029\n",
      "Epoch  37/60 Batch   50/77 - Training Loss:  0.019  - Validation loss:  0.027\n",
      "Epoch  38/60 Batch    0/77 - Training Loss:  0.017  - Validation loss:  0.027\n",
      "Epoch  38/60 Batch   50/77 - Training Loss:  0.017  - Validation loss:  0.026\n",
      "Epoch  39/60 Batch    0/77 - Training Loss:  0.016  - Validation loss:  0.026\n",
      "Epoch  39/60 Batch   50/77 - Training Loss:  0.016  - Validation loss:  0.025\n",
      "Epoch  40/60 Batch    0/77 - Training Loss:  0.015  - Validation loss:  0.025\n",
      "Epoch  40/60 Batch   50/77 - Training Loss:  0.015  - Validation loss:  0.024\n",
      "Epoch  41/60 Batch    0/77 - Training Loss:  0.014  - Validation loss:  0.024\n",
      "Epoch  41/60 Batch   50/77 - Training Loss:  0.013  - Validation loss:  0.023\n",
      "Epoch  42/60 Batch    0/77 - Training Loss:  0.013  - Validation loss:  0.023\n",
      "Epoch  42/60 Batch   50/77 - Training Loss:  0.012  - Validation loss:  0.022\n",
      "Epoch  43/60 Batch    0/77 - Training Loss:  0.012  - Validation loss:  0.022\n",
      "Epoch  43/60 Batch   50/77 - Training Loss:  0.011  - Validation loss:  0.021\n",
      "Epoch  44/60 Batch    0/77 - Training Loss:  0.011  - Validation loss:  0.020\n",
      "Epoch  44/60 Batch   50/77 - Training Loss:  0.011  - Validation loss:  0.021\n",
      "Epoch  45/60 Batch    0/77 - Training Loss:  0.010  - Validation loss:  0.019\n",
      "Epoch  45/60 Batch   50/77 - Training Loss:  0.010  - Validation loss:  0.020\n",
      "Epoch  46/60 Batch    0/77 - Training Loss:  0.010  - Validation loss:  0.018\n",
      "Epoch  46/60 Batch   50/77 - Training Loss:  0.009  - Validation loss:  0.019\n",
      "Epoch  47/60 Batch    0/77 - Training Loss:  0.009  - Validation loss:  0.017\n",
      "Epoch  47/60 Batch   50/77 - Training Loss:  0.009  - Validation loss:  0.019\n",
      "Epoch  48/60 Batch    0/77 - Training Loss:  0.008  - Validation loss:  0.016\n",
      "Epoch  48/60 Batch   50/77 - Training Loss:  0.008  - Validation loss:  0.018\n",
      "Epoch  49/60 Batch    0/77 - Training Loss:  0.008  - Validation loss:  0.016\n",
      "Epoch  49/60 Batch   50/77 - Training Loss:  0.008  - Validation loss:  0.017\n",
      "Epoch  50/60 Batch    0/77 - Training Loss:  0.008  - Validation loss:  0.015\n",
      "Epoch  50/60 Batch   50/77 - Training Loss:  0.007  - Validation loss:  0.017\n",
      "Epoch  51/60 Batch    0/77 - Training Loss:  0.007  - Validation loss:  0.014\n",
      "Epoch  51/60 Batch   50/77 - Training Loss:  0.007  - Validation loss:  0.016\n",
      "Epoch  52/60 Batch    0/77 - Training Loss:  0.007  - Validation loss:  0.014\n",
      "Epoch  52/60 Batch   50/77 - Training Loss:  0.006  - Validation loss:  0.016\n",
      "Epoch  53/60 Batch    0/77 - Training Loss:  0.006  - Validation loss:  0.013\n",
      "Epoch  53/60 Batch   50/77 - Training Loss:  0.006  - Validation loss:  0.015\n"
     ]
    },
    {
     "name": "stdout",
     "output_type": "stream",
     "text": [
      "Epoch  54/60 Batch    0/77 - Training Loss:  0.006  - Validation loss:  0.013\n",
      "Epoch  54/60 Batch   50/77 - Training Loss:  0.005  - Validation loss:  0.014\n",
      "Epoch  55/60 Batch    0/77 - Training Loss:  0.005  - Validation loss:  0.012\n",
      "Epoch  55/60 Batch   50/77 - Training Loss:  0.005  - Validation loss:  0.013\n",
      "Epoch  56/60 Batch    0/77 - Training Loss:  0.005  - Validation loss:  0.012\n",
      "Epoch  56/60 Batch   50/77 - Training Loss:  0.005  - Validation loss:  0.012\n",
      "Epoch  57/60 Batch    0/77 - Training Loss:  0.005  - Validation loss:  0.012\n",
      "Epoch  57/60 Batch   50/77 - Training Loss:  0.004  - Validation loss:  0.012\n",
      "Epoch  58/60 Batch    0/77 - Training Loss:  0.004  - Validation loss:  0.011\n",
      "Epoch  58/60 Batch   50/77 - Training Loss:  0.004  - Validation loss:  0.011\n",
      "Epoch  59/60 Batch    0/77 - Training Loss:  0.004  - Validation loss:  0.011\n",
      "Epoch  59/60 Batch   50/77 - Training Loss:  0.004  - Validation loss:  0.011\n",
      "Epoch  60/60 Batch    0/77 - Training Loss:  0.004  - Validation loss:  0.011\n",
      "Epoch  60/60 Batch   50/77 - Training Loss:  0.004  - Validation loss:  0.010\n",
      "Model Trained and Saved\n"
     ]
    }
   ],
   "source": [
    "# taind\n",
    "# 将数据集分割为train和validation\n",
    "train_source = source_int[batch_size:]\n",
    "train_target = target_int[batch_size:]\n",
    "# 留出一个batch进行验证\n",
    "valid_source = source_int[:batch_size]\n",
    "valid_target = target_int[:batch_size]\n",
    "\n",
    "(valid_targets_batch, valid_sources_batch, valid_targets_lengths, valid_sources_lengths) = next(get_batches(valid_target, valid_source, batch_size,\n",
    "                           source_letter_to_int['<PAD>'],\n",
    "                           target_letter_to_int['<PAD>']))\n",
    "display_step = 50 # 每隔50轮输出loss\n",
    "\n",
    "\n",
    "config = tf.ConfigProto(allow_soft_placement=True, \n",
    "                        log_device_placement=True)\n",
    "config.gpu_options.allow_growth=True\n",
    "with tf.Session(graph=train_graph,config=config) as sess:\n",
    "    sess.run(tf.global_variables_initializer())\n",
    "        \n",
    "    for epoch_i in range(1, epochs+1):\n",
    "        for batch_i, (targets_batch, sources_batch, targets_lengths, sources_lengths) in enumerate(\n",
    "                get_batches(train_target, train_source, batch_size,\n",
    "                           source_letter_to_int['<PAD>'],\n",
    "                           target_letter_to_int['<PAD>'])):\n",
    "            \n",
    "            _, loss = sess.run(\n",
    "                [train_op, cost],\n",
    "                {input_data: sources_batch,\n",
    "                 targets: targets_batch,\n",
    "                 lr: learning_rate,\n",
    "                 target_sequence_length: targets_lengths,\n",
    "                 source_sequence_length: sources_lengths})\n",
    "\n",
    "            if batch_i % display_step == 0:\n",
    "                \n",
    "                # 计算validation loss\n",
    "                validation_loss = sess.run(\n",
    "                [cost],\n",
    "                {input_data: valid_sources_batch,\n",
    "                 targets: valid_targets_batch,\n",
    "                 lr: learning_rate,\n",
    "                 target_sequence_length: valid_targets_lengths,\n",
    "                 source_sequence_length: valid_sources_lengths})\n",
    "                \n",
    "                print('Epoch {:>3}/{} Batch {:>4}/{} - Training Loss: {:>6.3f}  - Validation loss: {:>6.3f}'\n",
    "                      .format(epoch_i,\n",
    "                              epochs, \n",
    "                              batch_i, \n",
    "                              len(train_source) // batch_size, \n",
    "                              loss, \n",
    "                              validation_loss[0]))\n",
    "\n",
    "    \n",
    "    \n",
    "    # 保存模型\n",
    "    saver = tf.train.Saver()\n",
    "    saver.save(sess, \"./checkpoints/seq2seq_save\")\n",
    "    print('Model Trained and Saved')"
   ]
  },
  {
   "cell_type": "code",
   "execution_count": null,
   "metadata": {
    "collapsed": true
   },
   "outputs": [],
   "source": []
  },
  {
   "cell_type": "code",
   "execution_count": null,
   "metadata": {
    "collapsed": true
   },
   "outputs": [],
   "source": []
  },
  {
   "cell_type": "code",
   "execution_count": null,
   "metadata": {
    "collapsed": true
   },
   "outputs": [],
   "source": []
  },
  {
   "cell_type": "code",
   "execution_count": null,
   "metadata": {
    "collapsed": true
   },
   "outputs": [],
   "source": []
  },
  {
   "cell_type": "code",
   "execution_count": null,
   "metadata": {
    "collapsed": true
   },
   "outputs": [],
   "source": []
  }
 ],
 "metadata": {
  "kernelspec": {
   "display_name": "Python 3",
   "language": "python",
   "name": "python3"
  },
  "language_info": {
   "codemirror_mode": {
    "name": "ipython",
    "version": 3
   },
   "file_extension": ".py",
   "mimetype": "text/x-python",
   "name": "python",
   "nbconvert_exporter": "python",
   "pygments_lexer": "ipython3",
   "version": "3.6.3"
  }
 },
 "nbformat": 4,
 "nbformat_minor": 2
}
